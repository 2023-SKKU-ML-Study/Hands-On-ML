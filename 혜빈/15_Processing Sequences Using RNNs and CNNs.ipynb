{
 "cells": [
  {
   "cell_type": "code",
   "execution_count": 2,
   "id": "ed0fded1-0881-48c8-a841-9ad479b3365b",
   "metadata": {},
   "outputs": [],
   "source": [
    "import tensorflow as tf\n",
    "import matplotlib.pyplot as plt\n",
    "\n",
    "plt.rc('font', size=14)\n",
    "plt.rc('axes', labelsize=14, titlesize=14)\n",
    "plt.rc('legend', fontsize=14)\n",
    "plt.rc('xtick', labelsize=10)\n",
    "plt.rc('ytick', labelsize=10)\n",
    "\n",
    "import matplotlib \n",
    "\n",
    "matplotlib.rc('font', family='AppleGothic')\n",
    "matplotlib.rcParams['axes.unicode_minus'] = False"
   ]
  },
  {
   "cell_type": "markdown",
   "id": "d20ae5c0-3b71-4759-9ac3-92c34df79007",
   "metadata": {},
   "source": [
    "# 1. 입력과 출력 시퀀스\n",
    "1. sequence-to-sequence network : 입력 시퀀스를 받아 출력 시퀀스를 만들 수 있다.\n",
    "   - 주식 가격 같은 시계열 데이터를 에측하는 데 유용\n",
    "   - 최근 N일치의 주식가격을 주입하면 네트워크는 각 입력값보다 하루 앞선 가격을 출력해야 한다. 즉, N-1일 전부터 내일까지\n",
    "2. sequence-to-vector network : 입력 시퀀스를 네트워크에 주입하고, 마지막을 제외한 모든 출력을 무시할 수 있다.\n",
    "   - 영와 리뷰에 있는 연속된 단어를 주입하면 네트워크는 감정 점수를 출력한다. -1(싫음)에서 +1(좋음)까지\n",
    "3. vector-to-sequence : 각 타임 스텝에서 하나의 입력 벡터를 반복해서 네트워크에 주입하고, 하나의 시퀀스를 출력할 수 있다.\n",
    "   - 이미지를 입력하여 이미지에 대한 캡션을 출력할 수 있다.\n",
    "4. 인코더라 부르는 sequence-to-vector network 뒤에 디코더라 부르는 vector-to-sequence network를 연결할 수 있다.\n",
    "   - 한 언어의 문장을 다른 언어로 번역하는 데 사용할 수 있다. 한 언어의 문장을 네트워크에 주입하면 인코더는 이를 벡터 표현으로 변환하고, 그다음 디코더가 이 벡터를 다른 언어의 문장으로 디코딩한다.\n",
    "   - 인코더-디코더라 부르는 이런 이중 단게 모델은 하나의 시퀀스-투-시퀀스 RNN을 사용하여 번역하는 것보다 훨씬 더 잘 작동한다. 문장의 마지막 단어가 번역의 첫 번째 단어에 영향을 줄 수 있기 때문이다. 그래서 번역하기 전에 전체 문장이 주입될 때까지 기다릴 필요가 있다.\n",
    "\n",
    "# 2. RNN 구현"
   ]
  },
  {
   "cell_type": "code",
   "execution_count": null,
   "id": "8d2e1603-b0c2-4ec7-ae99-2df7e5919d43",
   "metadata": {},
   "outputs": [],
   "source": []
  }
 ],
 "metadata": {
  "kernelspec": {
   "display_name": "Python 3 (ipykernel)",
   "language": "python",
   "name": "python3"
  },
  "language_info": {
   "codemirror_mode": {
    "name": "ipython",
    "version": 3
   },
   "file_extension": ".py",
   "mimetype": "text/x-python",
   "name": "python",
   "nbconvert_exporter": "python",
   "pygments_lexer": "ipython3",
   "version": "3.10.12"
  }
 },
 "nbformat": 4,
 "nbformat_minor": 5
}
